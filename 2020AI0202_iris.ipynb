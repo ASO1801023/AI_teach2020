{
  "nbformat": 4,
  "nbformat_minor": 0,
  "metadata": {
    "colab": {
      "name": "2020AI0202-iris.ipynb",
      "provenance": [],
      "collapsed_sections": [],
      "toc_visible": true,
      "authorship_tag": "ABX9TyOlgRkeAaV8/cSx3bfUTZZx",
      "include_colab_link": true
    },
    "kernelspec": {
      "name": "python3",
      "display_name": "Python 3"
    }
  },
  "cells": [
    {
      "cell_type": "markdown",
      "metadata": {
        "id": "view-in-github",
        "colab_type": "text"
      },
      "source": [
        "<a href=\"https://colab.research.google.com/github/ASO1801023/AI_teach2020/blob/master/2020AI0202_iris.ipynb\" target=\"_parent\"><img src=\"https://colab.research.google.com/assets/colab-badge.svg\" alt=\"Open In Colab\"/></a>"
      ]
    },
    {
      "cell_type": "markdown",
      "metadata": {
        "id": "wR116n7dMyvC"
      },
      "source": [
        "### URLオブジェクトを使ってファイルをリンクから保存"
      ]
    },
    {
      "cell_type": "code",
      "metadata": {
        "id": "dJwpjR7WMk-H"
      },
      "source": [
        "# urlライブラリのrequestクラスをreqという別名でimport\n",
        "import urllib.request as req\n",
        "# pandasライブラリをpdという別名でimport\n",
        "import pandas as pd"
      ],
      "execution_count": 10,
      "outputs": []
    },
    {
      "cell_type": "code",
      "metadata": {
        "id": "zArpYvaDNLDj",
        "outputId": "d7f9a344-1d55-4695-9696-ce5a425c3173",
        "colab": {
          "base_uri": "https://localhost:8080/",
          "height": 34
        }
      },
      "source": [
        "# urlという名前のオブジェクト変数を定義\n",
        "url = \"https://github.com/pandas-dev/pandas/raw/master/pandas/tests/io/data/csv/iris.csv\"\n",
        "savefile = \"iris.csv\"\n",
        "req.urlretrieve(url, savefile)\n",
        "print(\"保存しました\")"
      ],
      "execution_count": 11,
      "outputs": [
        {
          "output_type": "stream",
          "text": [
            "保存しました\n"
          ],
          "name": "stdout"
        }
      ]
    },
    {
      "cell_type": "code",
      "metadata": {
        "id": "dMn5NTlbO2pj"
      },
      "source": [
        "# ダウンロードしたファイルの内容を表示\n",
        "iris_data = pd.read_csv(savefile, encoding=\"utf-8\")"
      ],
      "execution_count": 12,
      "outputs": []
    },
    {
      "cell_type": "markdown",
      "metadata": {
        "id": "-QbTWEOIV5Ah"
      },
      "source": [
        "### 機械学習のライブラリを読み込む"
      ]
    },
    {
      "cell_type": "code",
      "metadata": {
        "id": "YwMbBc-IO_bn"
      },
      "source": [
        "# 機械学習のデータを学習用とテスト用に分けるためのクラス\n",
        "from sklearn.model_selection import train_test_split\n",
        "# サポートベクターマイン（SVM)のSVCアルゴリズムのクラス\n",
        "from sklearn.svm import SVC\n",
        "# テストの評価用クラス\n",
        "from sklearn.metrics import accuracy_score"
      ],
      "execution_count": 13,
      "outputs": []
    },
    {
      "cell_type": "markdown",
      "metadata": {
        "id": "Sf6R1z2sXKbv"
      },
      "source": [
        "### アヤメのSCVデータを正解（ラベル）と入力用データに分離する\n",
        "### 列を分ける"
      ]
    },
    {
      "cell_type": "code",
      "metadata": {
        "id": "li-UL4r9XIDL",
        "outputId": "b7be777f-1a5c-4d9f-a2df-d1cb7454a991",
        "colab": {
          "base_uri": "https://localhost:8080/",
          "height": 221
        }
      },
      "source": [
        "# pythonのリスト切り出しを使って表を縦に分割する\n",
        "# yに右一列（”name”の列）だけを切り取って代入\n",
        "y = iris_data.loc[:, \"Name\"]\n",
        "y"
      ],
      "execution_count": 14,
      "outputs": [
        {
          "output_type": "execute_result",
          "data": {
            "text/plain": [
              "0         Iris-setosa\n",
              "1         Iris-setosa\n",
              "2         Iris-setosa\n",
              "3         Iris-setosa\n",
              "4         Iris-setosa\n",
              "            ...      \n",
              "145    Iris-virginica\n",
              "146    Iris-virginica\n",
              "147    Iris-virginica\n",
              "148    Iris-virginica\n",
              "149    Iris-virginica\n",
              "Name: Name, Length: 150, dtype: object"
            ]
          },
          "metadata": {
            "tags": []
          },
          "execution_count": 14
        }
      ]
    },
    {
      "cell_type": "code",
      "metadata": {
        "id": "CbYNSho_YhF4",
        "outputId": "eb748fb2-d99a-468a-806d-a24951d5dddc",
        "colab": {
          "base_uri": "https://localhost:8080/",
          "height": 255
        }
      },
      "source": [
        "# xに左４列のデータを切り取って代入\n",
        "x = iris_data.loc[:, [\"SepalLength\", \"SepalWidth\", \"PetalLength\", \"PetalWidth\"] ]\n",
        "print(x)"
      ],
      "execution_count": 15,
      "outputs": [
        {
          "output_type": "stream",
          "text": [
            "     SepalLength  SepalWidth  PetalLength  PetalWidth\n",
            "0            5.1         3.5          1.4         0.2\n",
            "1            4.9         3.0          1.4         0.2\n",
            "2            4.7         3.2          1.3         0.2\n",
            "3            4.6         3.1          1.5         0.2\n",
            "4            5.0         3.6          1.4         0.2\n",
            "..           ...         ...          ...         ...\n",
            "145          6.7         3.0          5.2         2.3\n",
            "146          6.3         2.5          5.0         1.9\n",
            "147          6.5         3.0          5.2         2.0\n",
            "148          6.2         3.4          5.4         2.3\n",
            "149          5.9         3.0          5.1         1.8\n",
            "\n",
            "[150 rows x 4 columns]\n"
          ],
          "name": "stdout"
        }
      ]
    },
    {
      "cell_type": "markdown",
      "metadata": {
        "id": "nsXldgK9ZnyQ"
      },
      "source": [
        "### xデータも、yデータも、学習用とテスト用に分離する"
      ]
    },
    {
      "cell_type": "code",
      "metadata": {
        "id": "roJYMH6OZNbk"
      },
      "source": [
        "# train_test_splitを使って、xもyもtrainデータとtestデータにランダムに分ける（shuffle）\n",
        "x_train, x_test, y_train, y_test = train_test_split(x, y, test_size = 0.2, train_size = 0.8, shuffle = True)"
      ],
      "execution_count": 16,
      "outputs": []
    },
    {
      "cell_type": "markdown",
      "metadata": {
        "id": "zVBzoBviv146"
      },
      "source": [
        "### 学習する"
      ]
    },
    {
      "cell_type": "code",
      "metadata": {
        "id": "lkfT733JZlQa",
        "outputId": "8bb60fe7-7458-4afa-b605-75b5467994c8",
        "colab": {
          "base_uri": "https://localhost:8080/",
          "height": 85
        }
      },
      "source": [
        "clf = SVC()\n",
        "clf.fit(x_train, y_train)"
      ],
      "execution_count": 17,
      "outputs": [
        {
          "output_type": "execute_result",
          "data": {
            "text/plain": [
              "SVC(C=1.0, break_ties=False, cache_size=200, class_weight=None, coef0=0.0,\n",
              "    decision_function_shape='ovr', degree=3, gamma='scale', kernel='rbf',\n",
              "    max_iter=-1, probability=False, random_state=None, shrinking=True,\n",
              "    tol=0.001, verbose=False)"
            ]
          },
          "metadata": {
            "tags": []
          },
          "execution_count": 17
        }
      ]
    },
    {
      "cell_type": "markdown",
      "metadata": {
        "id": "oXh3hYXXv_yl"
      },
      "source": [
        "### 評価する"
      ]
    },
    {
      "cell_type": "code",
      "metadata": {
        "id": "sjYJqlH2v-O7",
        "outputId": "ea4735a1-04b5-49d8-a3d9-53e83d0dfc6c",
        "colab": {
          "base_uri": "https://localhost:8080/",
          "height": 34
        }
      },
      "source": [
        "y_pred = clf.predict(x_test)\n",
        "print(\"正解率 = \", accuracy_score(y_test, y_pred))"
      ],
      "execution_count": 18,
      "outputs": [
        {
          "output_type": "stream",
          "text": [
            "正解率 =  0.9333333333333333\n"
          ],
          "name": "stdout"
        }
      ]
    },
    {
      "cell_type": "code",
      "metadata": {
        "id": "x6P7VazzwTeb"
      },
      "source": [
        ""
      ],
      "execution_count": 18,
      "outputs": []
    }
  ]
}