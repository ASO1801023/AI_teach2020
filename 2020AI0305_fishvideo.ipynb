{
  "nbformat": 4,
  "nbformat_minor": 0,
  "metadata": {
    "colab": {
      "name": "2020AI0305-fishvideo.ipynb ",
      "provenance": [],
      "collapsed_sections": [],
      "include_colab_link": true
    },
    "kernelspec": {
      "name": "python3",
      "display_name": "Python 3"
    }
  },
  "cells": [
    {
      "cell_type": "markdown",
      "metadata": {
        "id": "view-in-github",
        "colab_type": "text"
      },
      "source": [
        "<a href=\"https://colab.research.google.com/github/ASO1801023/AI_teach2020/blob/master/2020AI0305_fishvideo.ipynb\" target=\"_parent\"><img src=\"https://colab.research.google.com/assets/colab-badge.svg\" alt=\"Open In Colab\"/></a>"
      ]
    },
    {
      "cell_type": "markdown",
      "metadata": {
        "id": "Ikovmat5Rkfr"
      },
      "source": [
        "## 動画ファイルから画面の変化を検出して、画像フィルに保存する"
      ]
    },
    {
      "cell_type": "markdown",
      "metadata": {
        "id": "cqAMeaYERs9-"
      },
      "source": [
        "### ライブラリのimport"
      ]
    },
    {
      "cell_type": "code",
      "metadata": {
        "id": "Ae-u_lIELRiA"
      },
      "source": [
        "# ライブラリのimport\n",
        "import cv2\n",
        "# OSの操作用オブジェクト\n",
        "import os\n",
        "# urlダウンロード用\n",
        "import urllib.request as req"
      ],
      "execution_count": 1,
      "outputs": []
    },
    {
      "cell_type": "markdown",
      "metadata": {
        "id": "u0NgNitqSHKw"
      },
      "source": [
        "### 処理用変数の定義とディレクトリの生成処理"
      ]
    },
    {
      "cell_type": "code",
      "metadata": {
        "id": "cm0E4tmlSA96"
      },
      "source": [
        "# 変数の定義\n",
        "# 前回の画像データ用変数\n",
        "img_last = None\n",
        "# ファイル番号\n",
        "no = 0\n",
        "# ファイル保存ディレクトリ用文字列\n",
        "save_dir = \"./exfish\"\n",
        "# OSにディレクトリ作成を命令する\n",
        "os.makedirs( save_dir, exist_ok=True ) # 存在する場合は何もしない"
      ],
      "execution_count": 2,
      "outputs": []
    },
    {
      "cell_type": "markdown",
      "metadata": {
        "id": "GH60WbHbSx7Z"
      },
      "source": [
        "### 動画ファイルを終わりまで1フレームずつ読みこみ、比較してファイル保存"
      ]
    },
    {
      "cell_type": "code",
      "metadata": {
        "id": "Xp10f_EaSukD"
      },
      "source": [
        "# 動画ファイルをダウンロード\n",
        "url = \"https://github.com/masatokg/sample_photo/raw/master/fish.mp4\"\n",
        "save_file = \"fish.mp4\"\n",
        "# ファイルをダウンロードして保存\n",
        "req.urlretrieve( url, save_file )\n",
        "\n",
        "# oepnCVでファイルの画像データを読み込む\n",
        "cap = cv2.VideoCapture( save_file )\n",
        "\n",
        "# 次のフレームを終わりまで順次無限ループで読み込む\n",
        "while( True ):\n",
        "  # フレームを読み込む（終わりだったら第一戻り値にFalseが戻る）\n",
        "  is_ok, frame = cap.read()\n",
        "  # もし、フレームが読み込めなかったら（終わりなら）\n",
        "  if not is_ok:\n",
        "    # メッセージを出して無限ループをbreakする\n",
        "    print(\"end.\")\n",
        "    break\n",
        "  # if文終わり\n",
        "  # 切り抜き処理などのためにフレーム画像のサイズを640*340に整える\n",
        "  frame = cv2.resize( frame, (640, 360) )\n",
        "  # グレースケール画像に変換\n",
        "  gray = cv2.cvtColor( frame, cv2.COLOR_BGR2GRAY )\n",
        "  # 少しガウスぼかしをかけて輪郭を太くする\n",
        "  gray = cv2.GaussianBlur( gray, (15,15), 0 )\n",
        "  # 閾値を指定してブラックアンドホワイトの2極画像に変換する\n",
        "  img_b = cv2.threshold( gray, 127, 255, cv2.THRESH_BINARY )[1]\n",
        "  \n",
        "  # もし前回記憶したブラックアンドホワイトの画像が存在したら、差分を検出\n",
        "  if not img_last is None:\n",
        "    # 差分となる値を絶対値で取得\n",
        "    frame_diff = cv2.absdiff( img_last, img_b )\n",
        "\n",
        "    # 差分の輪郭の特徴（座標）のリストを取得\n",
        "    cnts = cv2.findContours( frame_diff, \n",
        "                            cv2.RETR_EXTERNAL, cv2.CHAIN_APPROX_SIMPLE)[0]\n",
        "    # 差分の数だけループして差分の座標の領域の画像データを切り抜いてファイルに保存\n",
        "    for pt in cnts:\n",
        "      # 差分の領域の座標（と縦幅、横幅）を変数に格納\n",
        "      x, y, w, h = cv2.boundingRect(pt)\n",
        "      # 領域があまりに小さすぎたり、大きすぎたら、ノイズとして無視する\n",
        "      if w< 100 or w > 500: continue\n",
        "\n",
        "      # フレームから指定した座標領域の画像データを切り抜く\n",
        "      imgex = frame[ y:y+h, x:x+w ]\n",
        "\n",
        "      # ファイル保存処理\n",
        "      # ファイル名組み立て\n",
        "      outfile = save_dir + \"/\" + str(no) + \".jpg\"\n",
        "      # ファイル保存命令\n",
        "      cv2.imwrite( outfile, imgex )\n",
        "\n",
        "      # ファイル番号を+1する\n",
        "      no += 1\n",
        "    # for文終わり\n",
        "  # if文終わり\n",
        "  # ブラックアンドホワイトの画像を記憶する\n",
        "  img_last = img_b\n",
        "# while文終了\n",
        "# 画像ファイルの読込を開放\n",
        "cap.release()\n",
        "# 最終終了メッセージ\n",
        "print(\"ok\")\n"
      ],
      "execution_count": null,
      "outputs": []
    },
    {
      "cell_type": "markdown",
      "metadata": {
        "id": "DVn3EGpUcJS4"
      },
      "source": [
        "### ファイルをzipに圧縮してダウンロード"
      ]
    },
    {
      "cell_type": "code",
      "metadata": {
        "id": "8GxyJvQYT2gz"
      },
      "source": [
        "# ダウンロードしたいフォルダを zip 圧縮する\n",
        "! zip -r /content/download.zip /content/exfish\n",
        "\n",
        "# 圧縮した zip ファイルをダウンロードする\n",
        "from google.colab import files\n",
        "files.download(\"/content/download.zip\")\n"
      ],
      "execution_count": null,
      "outputs": []
    }
  ]
}