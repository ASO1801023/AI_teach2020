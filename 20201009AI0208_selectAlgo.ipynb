{
  "nbformat": 4,
  "nbformat_minor": 0,
  "metadata": {
    "colab": {
      "name": "20201009AI0208-selectAlgo.ipynb ",
      "provenance": [],
      "collapsed_sections": [],
      "include_colab_link": true
    },
    "kernelspec": {
      "name": "python3",
      "display_name": "Python 3"
    }
  },
  "cells": [
    {
      "cell_type": "markdown",
      "metadata": {
        "id": "view-in-github",
        "colab_type": "text"
      },
      "source": [
        "<a href=\"https://colab.research.google.com/github/ASO1801023/AI_teach2020/blob/master/20201009AI0208_selectAlgo.ipynb\" target=\"_parent\"><img src=\"https://colab.research.google.com/assets/colab-badge.svg\" alt=\"Open In Colab\"/></a>"
      ]
    },
    {
      "cell_type": "markdown",
      "metadata": {
        "id": "TS8jJCNJ66Q4"
      },
      "source": [
        " ## sklearnでエラーが出るので、前のバージョンを入れ直す"
      ]
    },
    {
      "cell_type": "code",
      "metadata": {
        "id": "G5-n_x1Z7LSB",
        "outputId": "477227e4-8ad2-4328-c76c-83d0129633ed",
        "colab": {
          "base_uri": "https://localhost:8080/",
          "height": 484
        }
      },
      "source": [
        "# 現在のscikitーlearnをcolabのVMからアンインストール\n",
        "!pip uninstall scikit-learn\n",
        "# 前のバージョンを指定してvmにインストール\n",
        "!pip install scikit-learn==0.20 --ignore-installed"
      ],
      "execution_count": null,
      "outputs": [
        {
          "output_type": "stream",
          "text": [
            "Uninstalling scikit-learn-0.22.2.post1:\n",
            "  Would remove:\n",
            "    /usr/local/lib/python3.6/dist-packages/scikit_learn-0.22.2.post1.dist-info/*\n",
            "    /usr/local/lib/python3.6/dist-packages/sklearn/*\n",
            "Proceed (y/n)? y\n",
            "  Successfully uninstalled scikit-learn-0.22.2.post1\n",
            "Collecting scikit-learn==0.20\n",
            "\u001b[?25l  Downloading https://files.pythonhosted.org/packages/0c/b2/05be9b6da9ae4a4c54f537be22e95833f722742a02b1e355fdc09363877c/scikit_learn-0.20.0-cp36-cp36m-manylinux1_x86_64.whl (5.3MB)\n",
            "\u001b[K     |████████████████████████████████| 5.3MB 2.6MB/s \n",
            "\u001b[?25hCollecting scipy>=0.13.3\n",
            "\u001b[?25l  Downloading https://files.pythonhosted.org/packages/8a/14/d0475ceeaa047f3eae2dc7597c3d40228e1d5beee42c1730f3c96ffb5526/scipy-1.5.3-cp36-cp36m-manylinux1_x86_64.whl (25.9MB)\n",
            "\u001b[K     |████████████████████████████████| 25.9MB 1.7MB/s \n",
            "\u001b[?25hCollecting numpy>=1.8.2\n",
            "\u001b[?25l  Downloading https://files.pythonhosted.org/packages/0e/f7/a7d7e0de99a7b43bd95aaddcf29e65b5a185ca389dd1329a53cc986edc38/numpy-1.19.3-cp36-cp36m-manylinux2010_x86_64.whl (14.9MB)\n",
            "\u001b[K     |████████████████████████████████| 14.9MB 318kB/s \n",
            "\u001b[31mERROR: tensorflow 2.3.0 has requirement numpy<1.19.0,>=1.16.0, but you'll have numpy 1.19.3 which is incompatible.\u001b[0m\n",
            "\u001b[31mERROR: tensorflow 2.3.0 has requirement scipy==1.4.1, but you'll have scipy 1.5.3 which is incompatible.\u001b[0m\n",
            "\u001b[31mERROR: datascience 0.10.6 has requirement folium==0.2.1, but you'll have folium 0.8.3 which is incompatible.\u001b[0m\n",
            "\u001b[31mERROR: albumentations 0.1.12 has requirement imgaug<0.2.7,>=0.2.5, but you'll have imgaug 0.2.9 which is incompatible.\u001b[0m\n",
            "\u001b[?25hInstalling collected packages: numpy, scipy, scikit-learn\n",
            "Successfully installed numpy-1.19.3 scikit-learn-0.20.0 scipy-1.5.3\n"
          ],
          "name": "stdout"
        },
        {
          "output_type": "display_data",
          "data": {
            "application/vnd.colab-display-data+json": {
              "pip_warning": {
                "packages": [
                  "numpy"
                ]
              }
            }
          },
          "metadata": {
            "tags": []
          }
        }
      ]
    },
    {
      "cell_type": "markdown",
      "metadata": {
        "id": "1ZR6TOe-xriw"
      },
      "source": [
        "### all_estimators()でループして各種のアルゴリズムで学習させ、比較する"
      ]
    },
    {
      "cell_type": "code",
      "metadata": {
        "id": "ZlFfVGNCwpDB"
      },
      "source": [
        "# ライブラリ読み込み\n",
        "import pandas as pd\n",
        "# 学習用データとテスト検証用データを分割する\n",
        "from sklearn.model_selection import train_test_split\n",
        "# 正解率を算出するライブラリ\n",
        "from sklearn.metrics import accuracy_score\n",
        "# all_estimaios(推定機の全てを利用できるようにする)\n",
        "from sklearn.utils.testing import all_estimators\n",
        "# 警告クラス\n",
        "import warnings"
      ],
      "execution_count": null,
      "outputs": []
    },
    {
      "cell_type": "markdown",
      "metadata": {
        "id": "Q86IVSqNzNGf"
      },
      "source": [
        "### Webからあやめのデータを読み込む"
      ]
    },
    {
      "cell_type": "code",
      "metadata": {
        "id": "4YkCUG7xzRWl",
        "outputId": "7a9d04a8-e5e1-4fee-9334-5297a48f2643",
        "colab": {
          "base_uri": "https://localhost:8080/",
          "height": 204
        }
      },
      "source": [
        "# urリンクから読み込むライブラリ\n",
        "import urllib.request as req\n",
        "# url用の文字列変数を定義\n",
        "url =\"https://raw.githubusercontent.com/pandas-dev/pandas/master/pandas/tests/io/data/csv/iris.csv\"\n",
        "#リンクから保存するためのファイル名を定義\n",
        "savefile = \"iris.csv\"\n",
        "# requestクラスを使ってurlからデータをsavefileへコピーして保存\n",
        "req.urlretrieve(url,savefile)\n",
        "#pandasのreadメソッドを使ってcsvファイルを読み込む\n",
        "iris_data = pd.read_csv(savefile,encoding=\"utf-8\")\n",
        "iris_data.head()\n"
      ],
      "execution_count": null,
      "outputs": [
        {
          "output_type": "execute_result",
          "data": {
            "text/html": [
              "<div>\n",
              "<style scoped>\n",
              "    .dataframe tbody tr th:only-of-type {\n",
              "        vertical-align: middle;\n",
              "    }\n",
              "\n",
              "    .dataframe tbody tr th {\n",
              "        vertical-align: top;\n",
              "    }\n",
              "\n",
              "    .dataframe thead th {\n",
              "        text-align: right;\n",
              "    }\n",
              "</style>\n",
              "<table border=\"1\" class=\"dataframe\">\n",
              "  <thead>\n",
              "    <tr style=\"text-align: right;\">\n",
              "      <th></th>\n",
              "      <th>SepalLength</th>\n",
              "      <th>SepalWidth</th>\n",
              "      <th>PetalLength</th>\n",
              "      <th>PetalWidth</th>\n",
              "      <th>Name</th>\n",
              "    </tr>\n",
              "  </thead>\n",
              "  <tbody>\n",
              "    <tr>\n",
              "      <th>0</th>\n",
              "      <td>5.1</td>\n",
              "      <td>3.5</td>\n",
              "      <td>1.4</td>\n",
              "      <td>0.2</td>\n",
              "      <td>Iris-setosa</td>\n",
              "    </tr>\n",
              "    <tr>\n",
              "      <th>1</th>\n",
              "      <td>4.9</td>\n",
              "      <td>3.0</td>\n",
              "      <td>1.4</td>\n",
              "      <td>0.2</td>\n",
              "      <td>Iris-setosa</td>\n",
              "    </tr>\n",
              "    <tr>\n",
              "      <th>2</th>\n",
              "      <td>4.7</td>\n",
              "      <td>3.2</td>\n",
              "      <td>1.3</td>\n",
              "      <td>0.2</td>\n",
              "      <td>Iris-setosa</td>\n",
              "    </tr>\n",
              "    <tr>\n",
              "      <th>3</th>\n",
              "      <td>4.6</td>\n",
              "      <td>3.1</td>\n",
              "      <td>1.5</td>\n",
              "      <td>0.2</td>\n",
              "      <td>Iris-setosa</td>\n",
              "    </tr>\n",
              "    <tr>\n",
              "      <th>4</th>\n",
              "      <td>5.0</td>\n",
              "      <td>3.6</td>\n",
              "      <td>1.4</td>\n",
              "      <td>0.2</td>\n",
              "      <td>Iris-setosa</td>\n",
              "    </tr>\n",
              "  </tbody>\n",
              "</table>\n",
              "</div>"
            ],
            "text/plain": [
              "   SepalLength  SepalWidth  PetalLength  PetalWidth         Name\n",
              "0          5.1         3.5          1.4         0.2  Iris-setosa\n",
              "1          4.9         3.0          1.4         0.2  Iris-setosa\n",
              "2          4.7         3.2          1.3         0.2  Iris-setosa\n",
              "3          4.6         3.1          1.5         0.2  Iris-setosa\n",
              "4          5.0         3.6          1.4         0.2  Iris-setosa"
            ]
          },
          "metadata": {
            "tags": []
          },
          "execution_count": 3
        }
      ]
    },
    {
      "cell_type": "markdown",
      "metadata": {
        "id": "TowPYtPL2HDD"
      },
      "source": [
        "### アヤメデータを目的変数yと説明変数xに分離する"
      ]
    },
    {
      "cell_type": "code",
      "metadata": {
        "id": "FuC6mxlU2SOX",
        "outputId": "4bd01085-d76c-408c-bd44-f73b5c2b1464",
        "colab": {
          "base_uri": "https://localhost:8080/"
        }
      },
      "source": [
        "y = iris_data.loc[:, \"Name\"] #目的変数\n",
        "x = iris_data.loc[:,[\"SepalLength\",\"SepalWidth\",\"PetalLength\",\"PetalWidth\"]] #説明変数\n",
        "\n",
        "print(y.head())\n",
        "print(x.head())"
      ],
      "execution_count": null,
      "outputs": [
        {
          "output_type": "stream",
          "text": [
            "0    Iris-setosa\n",
            "1    Iris-setosa\n",
            "2    Iris-setosa\n",
            "3    Iris-setosa\n",
            "4    Iris-setosa\n",
            "Name: Name, dtype: object\n",
            "   SepalLength  SepalWidth  PetalLength  PetalWidth\n",
            "0          5.1         3.5          1.4         0.2\n",
            "1          4.9         3.0          1.4         0.2\n",
            "2          4.7         3.2          1.3         0.2\n",
            "3          4.6         3.1          1.5         0.2\n",
            "4          5.0         3.6          1.4         0.2\n"
          ],
          "name": "stdout"
        }
      ]
    },
    {
      "cell_type": "markdown",
      "metadata": {
        "id": "5SREJ-m42-oT"
      },
      "source": [
        "### アヤメデータをさらに学習用とテストように分離する"
      ]
    },
    {
      "cell_type": "code",
      "metadata": {
        "id": "yf0tnmnH3Cxh",
        "outputId": "80d52a94-9767-4bcd-e630-245ec2e77c6b",
        "colab": {
          "base_uri": "https://localhost:8080/"
        }
      },
      "source": [
        "# 学習用データ（train）と検証用データ（test）に分離\n",
        "x_train,x_test,y_train,y_test = train_test_split(x,y,test_size=0.2,train_size=0.8,shuffle=True)\n",
        "print(x_train.head())\n",
        "print(y_train.head())\n",
        "print(x_test.head())\n",
        "print(y_test.head())"
      ],
      "execution_count": null,
      "outputs": [
        {
          "output_type": "stream",
          "text": [
            "     SepalLength  SepalWidth  PetalLength  PetalWidth\n",
            "3            4.6         3.1          1.5         0.2\n",
            "142          5.8         2.7          5.1         1.9\n",
            "120          6.9         3.2          5.7         2.3\n",
            "72           6.3         2.5          4.9         1.5\n",
            "112          6.8         3.0          5.5         2.1\n",
            "3          Iris-setosa\n",
            "142     Iris-virginica\n",
            "120     Iris-virginica\n",
            "72     Iris-versicolor\n",
            "112     Iris-virginica\n",
            "Name: Name, dtype: object\n",
            "     SepalLength  SepalWidth  PetalLength  PetalWidth\n",
            "55           5.7         2.8          4.5         1.3\n",
            "9            4.9         3.1          1.5         0.1\n",
            "121          5.6         2.8          4.9         2.0\n",
            "34           4.9         3.1          1.5         0.1\n",
            "146          6.3         2.5          5.0         1.9\n",
            "55     Iris-versicolor\n",
            "9          Iris-setosa\n",
            "121     Iris-virginica\n",
            "34         Iris-setosa\n",
            "146     Iris-virginica\n",
            "Name: Name, dtype: object\n"
          ],
          "name": "stdout"
        }
      ]
    },
    {
      "cell_type": "markdown",
      "metadata": {
        "id": "E3k6mlZU4GQn"
      },
      "source": [
        "### allAlgorithmsにclassifierを指定して「分類」でフィルターしたアルゴリズムの推定器群を取得する"
      ]
    },
    {
      "cell_type": "code",
      "metadata": {
        "id": "s4bW2t0Y4fmL"
      },
      "source": [
        "# 推定器のリストをフィルター指定して取得\n",
        "allAlgorithms = all_estimators(type_filter=\"classifier\")\n",
        "# ワーニングを無視する\n",
        "warnings.filterwarnings(\"ignore\")"
      ],
      "execution_count": null,
      "outputs": []
    },
    {
      "cell_type": "code",
      "metadata": {
        "id": "7NzjZZkt4_a6"
      },
      "source": [
        ""
      ],
      "execution_count": null,
      "outputs": []
    },
    {
      "cell_type": "markdown",
      "metadata": {
        "id": "AgNoNaeu5BV0"
      },
      "source": [
        "### 推定器のリストをループしながら学習&推論させる"
      ]
    },
    {
      "cell_type": "code",
      "metadata": {
        "id": "Ddwg_9jT5LHx",
        "outputId": "64859faf-3eff-4386-876a-397f5801f78c",
        "colab": {
          "base_uri": "https://localhost:8080/"
        }
      },
      "source": [
        "#推定器のリストをループ\n",
        "for(name,algorithm) in allAlgorithms:\n",
        "  #各アルゴリズムのオブジェクトを生成\n",
        "  clf = algorithm() # 各アルゴリズムクラスのコンストラクトを実行\n",
        "  #　学習させる\n",
        "  clf.fit(x_train,y_train)\n",
        "  # 推論する\n",
        "  y_pred = clf.predict(x_test)\n",
        "  # accuracy_scoreで正解率を算出して表示\n",
        "  print(name,\"正解率 = \",accuracy_score(y_test,y_pred) )"
      ],
      "execution_count": null,
      "outputs": [
        {
          "output_type": "stream",
          "text": [
            "AdaBoostClassifier 正解率 =  1.0\n",
            "BaggingClassifier 正解率 =  1.0\n",
            "BernoulliNB 正解率 =  0.26666666666666666\n",
            "CalibratedClassifierCV 正解率 =  0.9666666666666667\n",
            "ComplementNB 正解率 =  0.6333333333333333\n",
            "DecisionTreeClassifier 正解率 =  1.0\n",
            "ExtraTreeClassifier 正解率 =  0.9666666666666667\n",
            "ExtraTreesClassifier 正解率 =  1.0\n",
            "GaussianNB 正解率 =  0.9666666666666667\n",
            "GaussianProcessClassifier 正解率 =  1.0\n",
            "GradientBoostingClassifier 正解率 =  1.0\n",
            "KNeighborsClassifier 正解率 =  1.0\n",
            "LabelPropagation 正解率 =  1.0\n",
            "LabelSpreading 正解率 =  1.0\n",
            "LinearDiscriminantAnalysis 正解率 =  1.0\n",
            "LinearSVC 正解率 =  0.9666666666666667\n",
            "LogisticRegression 正解率 =  0.9666666666666667\n",
            "LogisticRegressionCV 正解率 =  1.0\n",
            "MLPClassifier 正解率 =  0.9666666666666667\n",
            "MultinomialNB 正解率 =  0.8\n",
            "NearestCentroid 正解率 =  0.9333333333333333\n",
            "NuSVC 正解率 =  1.0\n",
            "PassiveAggressiveClassifier 正解率 =  0.7\n",
            "Perceptron 正解率 =  0.8333333333333334\n",
            "QuadraticDiscriminantAnalysis 正解率 =  1.0\n",
            "RadiusNeighborsClassifier 正解率 =  0.9666666666666667\n",
            "RandomForestClassifier 正解率 =  1.0\n",
            "RidgeClassifier 正解率 =  0.9333333333333333\n",
            "RidgeClassifierCV 正解率 =  0.9333333333333333\n",
            "SGDClassifier 正解率 =  0.6333333333333333\n",
            "SVC 正解率 =  1.0\n"
          ],
          "name": "stdout"
        }
      ]
    },
    {
      "cell_type": "markdown",
      "metadata": {
        "id": "SYbe5xmll84Z"
      },
      "source": [
        "## クロスバリデーション "
      ]
    },
    {
      "cell_type": "markdown",
      "metadata": {
        "id": "X1Xvup8-mCx5"
      },
      "source": [
        "### クロスバリデーション 関連のライブラリのインポート"
      ]
    },
    {
      "cell_type": "code",
      "metadata": {
        "id": "BG1p7h8rmHmQ"
      },
      "source": [
        "# ライブラリのインポート\n",
        "from sklearn.model_selection import KFold\n",
        "from sklearn.model_selection import cross_val_score"
      ],
      "execution_count": null,
      "outputs": []
    },
    {
      "cell_type": "markdown",
      "metadata": {
        "id": "Y-9AjQhxmw7M"
      },
      "source": [
        "### クロスバリデーション を実行する"
      ]
    },
    {
      "cell_type": "code",
      "metadata": {
        "id": "V6umGuN7m1yi",
        "outputId": "2a05de33-5d42-4c82-fb40-cd1d1649fa64",
        "colab": {
          "base_uri": "https://localhost:8080/"
        }
      },
      "source": [
        "# K分割交差検証用のインスタンスを生成する\n",
        "kfold_cv = KFold(n_splits=5,shuffle=True)\n",
        "# 　すでに生成してあるall_astimatorsのインスタンスをループさせて、クロスバリデーション を行う\n",
        "for(name,algorithm) in allAlgorithms:\n",
        "  try:\n",
        "    # 各アルゴリズムのインスタンスを取得\n",
        "    clf = algorithm()\n",
        "    #scoreの属性がある学習モデルだけに送る\n",
        "    if hasattr(clf,\"score\"):\n",
        "      scores = cross_val_score(clf,x,y,cv=kfold_cv)\n",
        "      #k=n splits=5回分のクロスバリデーション のスコアを表示\n",
        "      print(name,\"の正解率=\")\n",
        "      print(scores)\n",
        "      #ifブロック終了\n",
        "    #tryブロック終了\n",
        "  except : #例外処理のブロック\n",
        "  #except Exception e:\n",
        "  #print(e)\n",
        "    #何もしない\n",
        "    pass\n"
      ],
      "execution_count": null,
      "outputs": [
        {
          "output_type": "stream",
          "text": [
            "AdaBoostClassifier の正解率=\n",
            "[0.96666667 0.86666667 0.93333333 0.96666667 0.9       ]\n",
            "BaggingClassifier の正解率=\n",
            "[0.9        0.96666667 0.9        1.         1.        ]\n",
            "BernoulliNB の正解率=\n",
            "[0.33333333 0.26666667 0.3        0.3        0.26666667]\n",
            "CalibratedClassifierCV の正解率=\n",
            "[0.96666667 0.9        0.96666667 0.93333333 0.93333333]\n",
            "ComplementNB の正解率=\n",
            "[0.73333333 0.63333333 0.7        0.63333333 0.63333333]\n",
            "DecisionTreeClassifier の正解率=\n",
            "[0.96666667 0.93333333 0.96666667 0.96666667 1.        ]\n",
            "ExtraTreeClassifier の正解率=\n",
            "[0.93333333 0.93333333 0.96666667 0.96666667 0.93333333]\n",
            "ExtraTreesClassifier の正解率=\n",
            "[0.93333333 0.96666667 0.96666667 0.96666667 0.9       ]\n",
            "GaussianNB の正解率=\n",
            "[0.96666667 0.9        1.         0.93333333 0.96666667]\n",
            "GaussianProcessClassifier の正解率=\n",
            "[0.93333333 0.93333333 0.93333333 0.96666667 1.        ]\n",
            "GradientBoostingClassifier の正解率=\n",
            "[0.96666667 0.96666667 0.93333333 0.96666667 0.93333333]\n",
            "KNeighborsClassifier の正解率=\n",
            "[0.96666667 0.93333333 1.         0.93333333 0.96666667]\n",
            "LabelPropagation の正解率=\n",
            "[0.96666667 0.93333333 0.96666667 0.96666667 0.96666667]\n",
            "LabelSpreading の正解率=\n",
            "[0.96666667 0.9        0.96666667 0.96666667 1.        ]\n",
            "LinearDiscriminantAnalysis の正解率=\n",
            "[0.96666667 1.         1.         0.93333333 1.        ]\n",
            "LinearSVC の正解率=\n",
            "[0.86666667 0.86666667 1.         1.         1.        ]\n",
            "LogisticRegression の正解率=\n",
            "[0.96666667 1.         0.93333333 1.         0.93333333]\n",
            "LogisticRegressionCV の正解率=\n",
            "[1.         1.         0.93333333 0.93333333 0.86666667]\n",
            "MLPClassifier の正解率=\n",
            "[1.         1.         0.96666667 1.         0.93333333]\n",
            "MultinomialNB の正解率=\n",
            "[0.53333333 0.76666667 0.9        0.96666667 1.        ]\n",
            "NearestCentroid の正解率=\n",
            "[0.86666667 0.96666667 0.93333333 0.9        0.86666667]\n",
            "NuSVC の正解率=\n",
            "[0.96666667 0.93333333 0.96666667 1.         1.        ]\n",
            "PassiveAggressiveClassifier の正解率=\n",
            "[0.63333333 0.7        0.63333333 0.9        0.9       ]\n",
            "Perceptron の正解率=\n",
            "[0.63333333 0.93333333 0.43333333 0.73333333 0.66666667]\n",
            "QuadraticDiscriminantAnalysis の正解率=\n",
            "[1.         0.9        0.96666667 1.         1.        ]\n",
            "RadiusNeighborsClassifier の正解率=\n",
            "[0.93333333 0.96666667 0.96666667 0.96666667 0.9       ]\n",
            "RandomForestClassifier の正解率=\n",
            "[0.93333333 1.         0.96666667 0.9        1.        ]\n",
            "RidgeClassifier の正解率=\n",
            "[0.8        0.83333333 0.86666667 0.76666667 0.9       ]\n",
            "RidgeClassifierCV の正解率=\n",
            "[0.83333333 0.7        0.76666667 0.9        0.83333333]\n",
            "SGDClassifier の正解率=\n",
            "[1.         0.73333333 0.76666667 0.36666667 0.56666667]\n",
            "SVC の正解率=\n",
            "[0.93333333 1.         1.         0.9        0.93333333]\n"
          ],
          "name": "stdout"
        }
      ]
    },
    {
      "cell_type": "markdown",
      "metadata": {
        "id": "QC3IfokHrrxv"
      },
      "source": [
        "### おまけ: もっと詳しい結果を取得できるクロスバリデーション オブジェクト:cross_validate"
      ]
    },
    {
      "cell_type": "code",
      "metadata": {
        "id": "r8T6vZ_Dr3tj"
      },
      "source": [
        "# ライブラリのインポート\n",
        "from sklearn.model_selection import cross_validate"
      ],
      "execution_count": null,
      "outputs": []
    },
    {
      "cell_type": "markdown",
      "metadata": {
        "id": "r5dwg0m6thrk"
      },
      "source": [
        "### cross_validateを使ったクロスバリデーション "
      ]
    },
    {
      "cell_type": "code",
      "metadata": {
        "id": "jk4tBWilsUU3",
        "outputId": "4cd374d1-ec2d-411a-f7eb-575cf2458813",
        "colab": {
          "base_uri": "https://localhost:8080/"
        }
      },
      "source": [
        "# K分割交差検証用のインスタンスを生成する\n",
        "kfold_cv = KFold(n_splits=5,shuffle=True)\n",
        "# 　すでに生成してあるall_astimatorsのインスタンスをループさせて、クロスバリデーション を行う\n",
        "for(name,algorithm) in allAlgorithms:\n",
        "  try:\n",
        "    # 各アルゴリズムのインスタンスを取得\n",
        "    clf = algorithm()\n",
        "    #scoreの属性がある学習モデルだけに送る\n",
        "    if hasattr(clf,\"score\"):\n",
        "      scores = cross_validate(clf,x,y,cv=kfold_cv)\n",
        "      #k=n splits=5回分のクロスバリデーション のスコアを表示\n",
        "      print(name,\"の正解率=\")\n",
        "      print(scores)\n",
        "      #ifブロック終了\n",
        "    #tryブロック終了\n",
        "  except : #例外処理のブロック\n",
        "    #何もしない\n",
        "    pass"
      ],
      "execution_count": null,
      "outputs": [
        {
          "output_type": "stream",
          "text": [
            "AdaBoostClassifier の正解率=\n",
            "{'fit_time': array([0.06997776, 0.06359863, 0.061903  , 0.0601027 , 0.05919814]), 'score_time': array([0.00575209, 0.00594807, 0.00625014, 0.00584173, 0.00548458]), 'test_score': array([0.9       , 0.96666667, 1.        , 0.9       , 0.93333333]), 'train_score': array([0.975     , 0.95833333, 0.95      , 0.975     , 0.95      ])}\n",
            "BaggingClassifier の正解率=\n",
            "{'fit_time': array([0.01467133, 0.01487041, 0.01272988, 0.01325178, 0.01265669]), 'score_time': array([0.00201964, 0.00163841, 0.00166512, 0.00166941, 0.00163436]), 'test_score': array([0.93333333, 0.96666667, 0.96666667, 0.93333333, 1.        ]), 'train_score': array([1.        , 1.        , 0.99166667, 0.98333333, 0.99166667])}\n",
            "BernoulliNB の正解率=\n",
            "{'fit_time': array([0.00334549, 0.00277591, 0.00184917, 0.00169897, 0.00165129]), 'score_time': array([0.00146484, 0.00154042, 0.00087047, 0.0008893 , 0.00080585]), 'test_score': array([0.23333333, 0.26666667, 0.2       , 0.2       , 0.26666667]), 'train_score': array([0.35833333, 0.35      , 0.36666667, 0.36666667, 0.35      ])}\n",
            "CalibratedClassifierCV の正解率=\n",
            "{'fit_time': array([0.03825974, 0.03676987, 0.04226208, 0.03867173, 0.0382638 ]), 'score_time': array([0.00143409, 0.00137663, 0.00138474, 0.00144649, 0.00144315]), 'test_score': array([0.9       , 0.83333333, 1.        , 0.9       , 1.        ]), 'train_score': array([0.95      , 0.95      , 0.94166667, 0.93333333, 0.95      ])}\n",
            "ComplementNB の正解率=\n",
            "{'fit_time': array([0.00337172, 0.00171757, 0.00169992, 0.00167513, 0.00172758]), 'score_time': array([0.00099778, 0.00078082, 0.00075579, 0.00075912, 0.00080466]), 'test_score': array([0.76666667, 0.6       , 0.66666667, 0.7       , 0.6       ]), 'train_score': array([0.64166667, 0.68333333, 0.66666667, 0.65833333, 0.68333333])}\n",
            "DecisionTreeClassifier の正解率=\n",
            "{'fit_time': array([0.00260234, 0.00129414, 0.00133514, 0.00194597, 0.00195456]), 'score_time': array([0.00075293, 0.00069714, 0.00148773, 0.0010004 , 0.00101995]), 'test_score': array([0.96666667, 0.9       , 1.        , 0.96666667, 0.93333333]), 'train_score': array([1., 1., 1., 1., 1.])}\n",
            "ExtraTreeClassifier の正解率=\n",
            "{'fit_time': array([0.002635  , 0.00248241, 0.00138521, 0.00122404, 0.00119424]), 'score_time': array([0.00120687, 0.00070524, 0.00070906, 0.00061774, 0.00069261]), 'test_score': array([0.86666667, 0.83333333, 0.83333333, 0.93333333, 1.        ]), 'train_score': array([1., 1., 1., 1., 1.])}\n",
            "ExtraTreesClassifier の正解率=\n",
            "{'fit_time': array([0.01036596, 0.00984907, 0.0121417 , 0.00938988, 0.00945091]), 'score_time': array([0.00151658, 0.00162506, 0.00154376, 0.00142407, 0.00144529]), 'test_score': array([0.93333333, 0.9       , 0.9       , 0.96666667, 1.        ]), 'train_score': array([1., 1., 1., 1., 1.])}\n",
            "GaussianNB の正解率=\n",
            "{'fit_time': array([0.00235605, 0.00223994, 0.00163555, 0.00150347, 0.00153565]), 'score_time': array([0.00105977, 0.00137544, 0.00078869, 0.00084829, 0.00075674]), 'test_score': array([0.93333333, 0.96666667, 0.96666667, 0.96666667, 0.93333333]), 'train_score': array([0.95833333, 0.95833333, 0.95833333, 0.95833333, 0.96666667])}\n",
            "GaussianProcessClassifier の正解率=\n",
            "{'fit_time': array([0.03564   , 0.03254795, 0.03185177, 0.0315094 , 0.03079748]), 'score_time': array([0.00597596, 0.00520134, 0.00493765, 0.00492835, 0.00498533]), 'test_score': array([0.96666667, 0.93333333, 1.        , 1.        , 0.93333333]), 'train_score': array([0.98333333, 0.98333333, 0.95      , 0.975     , 0.96666667])}\n",
            "GradientBoostingClassifier の正解率=\n",
            "{'fit_time': array([0.17654514, 0.15747595, 0.12637591, 0.14878893, 0.14863944]), 'score_time': array([0.00131059, 0.00133777, 0.00131631, 0.00135159, 0.00134063]), 'test_score': array([0.93333333, 0.96666667, 0.9       , 1.        , 1.        ]), 'train_score': array([1., 1., 1., 1., 1.])}\n",
            "KNeighborsClassifier の正解率=\n",
            "{'fit_time': array([0.0019207 , 0.00136232, 0.00145221, 0.0014143 , 0.00142908]), 'score_time': array([0.00300956, 0.00194311, 0.00192857, 0.00195909, 0.00187635]), 'test_score': array([0.96666667, 0.93333333, 1.        , 0.96666667, 1.        ]), 'train_score': array([0.96666667, 0.96666667, 0.975     , 0.96666667, 0.96666667])}\n",
            "LabelPropagation の正解率=\n",
            "{'fit_time': array([0.0038867 , 0.00270796, 0.00274324, 0.00272894, 0.00277591]), 'score_time': array([0.00155067, 0.00158882, 0.00151134, 0.00148463, 0.00164914]), 'test_score': array([0.9       , 0.96666667, 0.96666667, 0.96666667, 0.93333333]), 'train_score': array([1., 1., 1., 1., 1.])}\n",
            "LabelSpreading の正解率=\n",
            "{'fit_time': array([0.00329542, 0.00324345, 0.00316787, 0.00318861, 0.00316215]), 'score_time': array([0.00161171, 0.00158024, 0.00151491, 0.00150895, 0.00151944]), 'test_score': array([0.93333333, 1.        , 0.93333333, 1.        , 0.93333333]), 'train_score': array([1., 1., 1., 1., 1.])}\n",
            "LinearDiscriminantAnalysis の正解率=\n",
            "{'fit_time': array([0.0027082 , 0.0027647 , 0.002527  , 0.00273871, 0.00258589]), 'score_time': array([0.00096798, 0.00102782, 0.00093079, 0.00097585, 0.00092316]), 'test_score': array([0.93333333, 0.96666667, 1.        , 1.        , 1.        ]), 'train_score': array([0.99166667, 0.98333333, 0.975     , 0.975     , 0.975     ])}\n",
            "LinearSVC の正解率=\n",
            "{'fit_time': array([0.01160479, 0.01375842, 0.01097846, 0.01088786, 0.01543236]), 'score_time': array([0.00115108, 0.00121236, 0.00109124, 0.00109529, 0.00106478]), 'test_score': array([0.96666667, 1.        , 0.93333333, 0.93333333, 0.93333333]), 'train_score': array([0.96666667, 0.96666667, 0.98333333, 0.95      , 0.96666667])}\n",
            "LogisticRegression の正解率=\n",
            "{'fit_time': array([0.00291848, 0.00250888, 0.00177121, 0.00157928, 0.00180769]), 'score_time': array([0.00106311, 0.00091863, 0.00066137, 0.00071239, 0.00065708]), 'test_score': array([0.93333333, 0.96666667, 0.96666667, 0.9       , 0.96666667]), 'train_score': array([0.975     , 0.95833333, 0.96666667, 0.95833333, 0.95833333])}\n",
            "LogisticRegressionCV の正解率=\n",
            "{'fit_time': array([0.37095857, 0.39066267, 0.34053779, 0.30854821, 0.3411119 ]), 'score_time': array([0.00092912, 0.00092483, 0.00088739, 0.0009017 , 0.00088668]), 'test_score': array([0.93333333, 0.9       , 1.        , 1.        , 0.83333333]), 'train_score': array([0.96666667, 0.91666667, 0.95833333, 0.975     , 0.925     ])}\n",
            "MLPClassifier の正解率=\n",
            "{'fit_time': array([0.13969827, 0.13781381, 0.13371992, 0.12975454, 0.13423467]), 'score_time': array([0.00128269, 0.00127363, 0.00116634, 0.00115752, 0.00116944]), 'test_score': array([1.        , 0.96666667, 0.96666667, 1.        , 0.93333333]), 'train_score': array([0.975     , 0.98333333, 0.975     , 0.975     , 0.98333333])}\n",
            "MultinomialNB の正解率=\n",
            "{'fit_time': array([0.00334573, 0.00210905, 0.00184107, 0.00174165, 0.0017879 ]), 'score_time': array([0.00083923, 0.00081348, 0.00077415, 0.00077057, 0.00116682]), 'test_score': array([0.9       , 0.83333333, 0.9       , 0.6       , 0.96666667]), 'train_score': array([0.975     , 0.85      , 0.925     , 0.725     , 0.96666667])}\n",
            "NearestCentroid の正解率=\n",
            "{'fit_time': array([0.00178146, 0.00172448, 0.00176287, 0.00177526, 0.00175571]), 'score_time': array([0.00114226, 0.00108576, 0.00108194, 0.00107837, 0.00108886]), 'test_score': array([0.96666667, 0.9       , 0.96666667, 0.96666667, 0.86666667]), 'train_score': array([0.91666667, 0.93333333, 0.925     , 0.925     , 0.94166667])}\n",
            "NuSVC の正解率=\n",
            "{'fit_time': array([0.00314951, 0.00215936, 0.00207973, 0.00207114, 0.00219274]), 'score_time': array([0.00081754, 0.00080943, 0.00080419, 0.00080228, 0.00078249]), 'test_score': array([0.96666667, 0.93333333, 1.        , 1.        , 0.96666667]), 'train_score': array([0.96666667, 0.975     , 0.95833333, 0.96666667, 0.95833333])}\n",
            "PassiveAggressiveClassifier の正解率=\n",
            "{'fit_time': array([0.00373411, 0.00190163, 0.0018301 , 0.00178909, 0.00180459]), 'score_time': array([0.00082636, 0.00072932, 0.00069928, 0.0007093 , 0.00069141]), 'test_score': array([0.66666667, 0.6       , 0.83333333, 0.9       , 0.9       ]), 'train_score': array([0.66666667, 0.68333333, 0.825     , 0.875     , 0.94166667])}\n",
            "Perceptron の正解率=\n",
            "{'fit_time': array([0.00391078, 0.00332952, 0.00405288, 0.00323939, 0.00275564]), 'score_time': array([0.00100684, 0.00098896, 0.0009923 , 0.00070834, 0.00072694]), 'test_score': array([0.63333333, 0.66666667, 0.3       , 0.4       , 0.66666667]), 'train_score': array([0.69166667, 0.66666667, 0.38333333, 0.375     , 0.675     ])}\n",
            "QuadraticDiscriminantAnalysis の正解率=\n",
            "{'fit_time': array([0.0030973 , 0.00247145, 0.00153208, 0.00150871, 0.00152779]), 'score_time': array([0.00132489, 0.00423861, 0.00090647, 0.0008955 , 0.00091386]), 'test_score': array([1.        , 0.96666667, 0.9       , 1.        , 1.        ]), 'train_score': array([0.975     , 0.975     , 1.        , 0.98333333, 0.98333333])}\n",
            "RadiusNeighborsClassifier の正解率=\n",
            "{'fit_time': array([0.00213552, 0.00153041, 0.00152183, 0.00273681, 0.00154805]), 'score_time': array([0.00578594, 0.00482798, 0.00461626, 0.0085392 , 0.00458884]), 'test_score': array([1.        , 0.96666667, 0.96666667, 0.96666667, 0.96666667]), 'train_score': array([0.96666667, 0.95      , 0.96666667, 0.95833333, 0.975     ])}\n",
            "RandomForestClassifier の正解率=\n",
            "{'fit_time': array([0.01524234, 0.01261353, 0.01503921, 0.01236296, 0.01233864]), 'score_time': array([0.00169086, 0.00160384, 0.00191712, 0.00153875, 0.00148916]), 'test_score': array([0.93333333, 0.93333333, 0.93333333, 0.96666667, 1.        ]), 'train_score': array([0.99166667, 0.99166667, 1.        , 0.99166667, 1.        ])}\n",
            "RidgeClassifier の正解率=\n",
            "{'fit_time': array([0.00467014, 0.00444555, 0.00275278, 0.00307941, 0.00283647]), 'score_time': array([0.0012033 , 0.00107574, 0.00088191, 0.00078559, 0.00089741]), 'test_score': array([0.86666667, 0.9       , 0.83333333, 0.8       , 0.86666667]), 'train_score': array([0.85833333, 0.85      , 0.85833333, 0.86666667, 0.85      ])}\n",
            "RidgeClassifierCV の正解率=\n",
            "{'fit_time': array([0.00502682, 0.00593257, 0.00340414, 0.00318551, 0.00307775]), 'score_time': array([0.00136399, 0.00092983, 0.0009141 , 0.00075126, 0.00094485]), 'test_score': array([0.83333333, 0.9       , 0.76666667, 0.83333333, 0.9       ]), 'train_score': array([0.86666667, 0.83333333, 0.85833333, 0.85      , 0.85833333])}\n",
            "SGDClassifier の正解率=\n",
            "{'fit_time': array([0.00436664, 0.00351977, 0.00194383, 0.00188351, 0.00193024]), 'score_time': array([0.00137711, 0.00095654, 0.00075984, 0.00070238, 0.00066733]), 'test_score': array([0.53333333, 0.63333333, 0.63333333, 0.43333333, 0.66666667]), 'train_score': array([0.45833333, 0.55      , 0.675     , 0.725     , 0.66666667])}\n",
            "SVC の正解率=\n",
            "{'fit_time': array([0.0030303 , 0.0017004 , 0.00173378, 0.0015676 , 0.00154567]), 'score_time': array([0.00101995, 0.00074863, 0.00070977, 0.00071669, 0.00070262]), 'test_score': array([0.96666667, 1.        , 1.        , 0.93333333, 0.93333333]), 'train_score': array([0.98333333, 0.99166667, 0.98333333, 0.99166667, 0.975     ])}\n"
          ],
          "name": "stdout"
        }
      ]
    },
    {
      "cell_type": "markdown",
      "metadata": {
        "id": "yo4rEINn7ZMS"
      },
      "source": [
        "## グリッドサーチで最適なパラメータを探し求める"
      ]
    },
    {
      "cell_type": "markdown",
      "metadata": {
        "id": "TQDCWRmM7vOl"
      },
      "source": [
        "### ライブラリをimport"
      ]
    },
    {
      "cell_type": "code",
      "metadata": {
        "id": "unxPEuL070lf"
      },
      "source": [
        "# グリッドサーチ\n",
        "from sklearn.model_selection import GridSearchCV\n",
        "# SVCアルゴリズムの学習モデルをimport\n",
        "from sklearn.svm import SVC"
      ],
      "execution_count": null,
      "outputs": []
    },
    {
      "cell_type": "markdown",
      "metadata": {
        "id": "DZJ__PO97_2B"
      },
      "source": [
        "### グリッドサーチを実行してパラメータを試す"
      ]
    },
    {
      "cell_type": "code",
      "metadata": {
        "id": "YAzNiSLQ8FBQ",
        "outputId": "e294c628-f22b-4e09-8a88-8d27f8acfb31",
        "colab": {
          "base_uri": "https://localhost:8080/"
        }
      },
      "source": [
        "# グリッドサーチを試すパラメ０他のパターンを指定する\n",
        "parameters = [\n",
        "              #３つのパラメータ、3パターン\n",
        "              {\"C\":[1,10,100,1000],\"kernel\":[\"linear\"]},\n",
        "              {\"C\":[1,10,100,1000],\"kernel\":[\"rbf\"],\"gamma\":[0.001,0.0001]},\n",
        "              {\"C\":[1,10,100,1000],\"kernel\":[\"sigmoid\"],\"gamma\":[0.001,0.0001]}\n",
        "              ]\n",
        "\n",
        "# K分割交差検証用のインスタンスを生成する\n",
        "kfold_cv = KFold(n_splits=5,shuffle=True)\n",
        "#普通の学習\n",
        "clf = SVC()\n",
        "clf.fit(x_train,y_train)\n",
        "y_pred = clf.predict(x_test)\n",
        "print(\"普通の学習の正解率 = \",accuracy_score(y_test,y_pred))\n",
        "\n",
        "#  グリッドサーチを行う\n",
        "# K分割交差検証用のインスタンスを生成する\n",
        "kfold_cv = KFold(n_splits=5,shuffle=True)\n",
        "# グリッドサーチの中でK分割交差検証も行われる\n",
        "clf_grid = GridSearchCV(SVC(),parameters,cv=kfold_cv) # インスタンス\n",
        "clf_grid.fit(x_train,y_train) #学習\n",
        "# 学習済みのもでるに最終的に設定された(最適と思われる)パラメータを表示\n",
        "print(\"最適なパラメータ = \",clf_grid.best_estimator_)\n",
        "\n",
        "#　最適なパラメータを表示\n",
        "y_pred = clf_grid.predict(x_test)\n",
        "print(\"グリッドサーチの正解率=\",accuracy_score(y_pred,y_test))"
      ],
      "execution_count": null,
      "outputs": [
        {
          "output_type": "stream",
          "text": [
            "普通の学習の正解率 =  1.0\n",
            "最適なパラメータ =  SVC(C=1000, cache_size=200, class_weight=None, coef0=0.0,\n",
            "  decision_function_shape='ovr', degree=3, gamma=0.001, kernel='rbf',\n",
            "  max_iter=-1, probability=False, random_state=None, shrinking=True,\n",
            "  tol=0.001, verbose=False)\n",
            "グリッドサーチの正解率= 1.0\n"
          ],
          "name": "stdout"
        }
      ]
    },
    {
      "cell_type": "markdown",
      "metadata": {
        "id": "vDXNHHedFEV7"
      },
      "source": [
        "### Numpyの動作確認"
      ]
    },
    {
      "cell_type": "code",
      "metadata": {
        "id": "Gn6FBaNFFJY2"
      },
      "source": [
        "import numpy as np"
      ],
      "execution_count": null,
      "outputs": []
    },
    {
      "cell_type": "code",
      "metadata": {
        "id": "3sTnF3f_FM_w",
        "outputId": "3838249f-7a14-4e5c-f0bb-2566319b4b9a",
        "colab": {
          "base_uri": "https://localhost:8080/"
        }
      },
      "source": [
        "# numpy配列の初期化\n",
        "a = np.array([1,2,3,4,5]) # ndarrayという配列オブジェクトを生成\n",
        "print(a)\n",
        "#型を表示\n",
        "print(type(a))"
      ],
      "execution_count": null,
      "outputs": [
        {
          "output_type": "stream",
          "text": [
            "[1 2 3 4 5]\n",
            "<class 'numpy.ndarray'>\n"
          ],
          "name": "stdout"
        }
      ]
    },
    {
      "cell_type": "code",
      "metadata": {
        "id": "gVXGHLZYFw5j",
        "outputId": "b23ff159-3b1a-40bb-ec4c-887f3bf0580a",
        "colab": {
          "base_uri": "https://localhost:8080/"
        }
      },
      "source": [
        "# ２次元のndarrayを定義\n",
        "b = np.array([[1,2,3],[4,5,6]])\n",
        "print(b)"
      ],
      "execution_count": null,
      "outputs": [
        {
          "output_type": "stream",
          "text": [
            "[[1 2 3]\n",
            " [4 5 6]]\n"
          ],
          "name": "stdout"
        }
      ]
    },
    {
      "cell_type": "code",
      "metadata": {
        "id": "Gii7xPHBGCfF",
        "outputId": "1e45e41d-176b-42ed-860a-e8d0d10ede17",
        "colab": {
          "base_uri": "https://localhost:8080/"
        }
      },
      "source": [
        "# 配列の要素数を指定して0で初期化\n",
        "print(np.zeros(10))\n",
        "print(np.zeros((3,2)))\n",
        "print(np.ones(2))"
      ],
      "execution_count": null,
      "outputs": [
        {
          "output_type": "stream",
          "text": [
            "[0. 0. 0. 0. 0. 0. 0. 0. 0. 0.]\n",
            "[[0. 0.]\n",
            " [0. 0.]\n",
            " [0. 0.]]\n",
            "[1. 1.]\n"
          ],
          "name": "stdout"
        }
      ]
    },
    {
      "cell_type": "code",
      "metadata": {
        "id": "BcnPpDTXGO4O",
        "outputId": "2b0a6b99-6762-450c-a9bb-bde3352cde76",
        "colab": {
          "base_uri": "https://localhost:8080/"
        }
      },
      "source": [
        "# 連番の配列を要素数を指定して初期化\n",
        "print(np.arange(5))\n",
        "print(np.arange(2,9))\n",
        "print(np.arange(5,8,0.5))"
      ],
      "execution_count": null,
      "outputs": [
        {
          "output_type": "stream",
          "text": [
            "[0 1 2 3 4]\n",
            "[2 3 4 5 6 7 8]\n",
            "[5.  5.5 6.  6.5 7.  7.5]\n"
          ],
          "name": "stdout"
        }
      ]
    },
    {
      "cell_type": "markdown",
      "metadata": {
        "id": "YuaulXkYHviR"
      },
      "source": [
        "### numpyで行列計算"
      ]
    },
    {
      "cell_type": "code",
      "metadata": {
        "id": "1tlInZLPGFnY",
        "outputId": "dd7ab7a6-6473-4412-c3f2-cfd1fd7f9cc9",
        "colab": {
          "base_uri": "https://localhost:8080/"
        }
      },
      "source": [
        "# numpyで行列計算\n",
        "a = np.array([1,2,3,4,5])\n",
        "b = a*2\n",
        "print(b)\n",
        "x = np.arange(10)\n",
        "print(x)\n",
        "y = 3*x + 5\n",
        "print(y)"
      ],
      "execution_count": null,
      "outputs": [
        {
          "output_type": "stream",
          "text": [
            "[ 2  4  6  8 10]\n",
            "[0 1 2 3 4 5 6 7 8 9]\n",
            "[ 5  8 11 14 17 20 23 26 29 32]\n"
          ],
          "name": "stdout"
        }
      ]
    },
    {
      "cell_type": "code",
      "metadata": {
        "id": "nPvk5KioHxzB",
        "outputId": "ed519ef5-3c24-409a-d954-8352d7ee2029",
        "colab": {
          "base_uri": "https://localhost:8080/"
        }
      },
      "source": [
        "a = np.array([[1,2,3],[4,5,6]])\n",
        "print(a)\n",
        "print(a.shape)\n",
        "\n",
        "b = np.array([[1,2,3],[4,5,6],[7,8,9]])\n",
        "print(b)\n",
        "print(b.shape)"
      ],
      "execution_count": null,
      "outputs": [
        {
          "output_type": "stream",
          "text": [
            "[[1 2 3]\n",
            " [4 5 6]]\n",
            "(2, 3)\n",
            "[[1 2 3]\n",
            " [4 5 6]\n",
            " [7 8 9]]\n",
            "(3, 3)\n"
          ],
          "name": "stdout"
        }
      ]
    },
    {
      "cell_type": "code",
      "metadata": {
        "id": "RjCIWZTfGuRz",
        "outputId": "979be14b-a83e-4250-f690-b0d26766733d",
        "colab": {
          "base_uri": "https://localhost:8080/"
        }
      },
      "source": [
        "# Numpy配列で次元数を変換する\n",
        "a = np.array([[1,2,3],[4,5,6]])\n",
        "print(\"a=\", a)\n",
        "b = a.flatten()\n",
        "print(\"b=\", b)\n",
        "\n",
        "a = np.array([[1,2,3],[4,5,6]])\n",
        "print(a)\n",
        "b = a.reshape(3,2)\n",
        "print(b)"
      ],
      "execution_count": null,
      "outputs": [
        {
          "output_type": "stream",
          "text": [
            "a= [[1 2 3]\n",
            " [4 5 6]]\n",
            "b= [1 2 3 4 5 6]\n",
            "[[1 2 3]\n",
            " [4 5 6]]\n",
            "[[1 2]\n",
            " [3 4]\n",
            " [5 6]]\n"
          ],
          "name": "stdout"
        }
      ]
    },
    {
      "cell_type": "markdown",
      "metadata": {
        "id": "cOGuAM4pHBAA"
      },
      "source": [
        "### numpyの配列にアクセスする方法"
      ]
    },
    {
      "cell_type": "code",
      "metadata": {
        "id": "wUMgoMloHFaW",
        "outputId": "dc6a200d-4b1c-49b1-9950-18e263f831f3",
        "colab": {
          "base_uri": "https://localhost:8080/"
        }
      },
      "source": [
        "v = np.array([[1,2,3],[4,5,6],[7,8,9]])\n",
        "a = v[0]\n",
        "print(a) # 二次元配列の０行目\n",
        "b = v[1:] #  一列目いこう\n",
        "print(b)\n",
        "c = v[:,0]\n",
        "print(c)"
      ],
      "execution_count": null,
      "outputs": [
        {
          "output_type": "stream",
          "text": [
            "[1 2 3]\n",
            "[[4 5 6]\n",
            " [7 8 9]]\n",
            "[1 4 7]\n"
          ],
          "name": "stdout"
        }
      ]
    },
    {
      "cell_type": "code",
      "metadata": {
        "id": "egF4kSh7HIMd"
      },
      "source": [
        ""
      ],
      "execution_count": null,
      "outputs": []
    }
  ]
}