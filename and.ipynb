{
  "nbformat": 4,
  "nbformat_minor": 0,
  "metadata": {
    "colab": {
      "name": "and.ipynb",
      "provenance": [],
      "collapsed_sections": [],
      "authorship_tag": "ABX9TyNwltjmc5l1Cr9aZMWTMBrI",
      "include_colab_link": true
    },
    "kernelspec": {
      "name": "python3",
      "display_name": "Python 3"
    }
  },
  "cells": [
    {
      "cell_type": "markdown",
      "metadata": {
        "id": "view-in-github",
        "colab_type": "text"
      },
      "source": [
        "<a href=\"https://colab.research.google.com/github/ASO1801023/AI_teach2020/blob/master/and.ipynb\" target=\"_parent\"><img src=\"https://colab.research.google.com/assets/colab-badge.svg\" alt=\"Open In Colab\"/></a>"
      ]
    },
    {
      "cell_type": "markdown",
      "metadata": {
        "id": "-M8iYuQUrdPd"
      },
      "source": [
        "### AND演算をモデルに学ばせる（LinearSVC）"
      ]
    },
    {
      "cell_type": "code",
      "metadata": {
        "id": "mQP0dEs6rlCr"
      },
      "source": [
        "# scikit-learnを使うため、インポートする\n",
        "from sklearn.svm import LinearSVC # 線形SCVのオブジェクト\n",
        "from sklearn.metrics import accuracy_score # 結果を評価するためのオブジェクト"
      ],
      "execution_count": 1,
      "outputs": []
    },
    {
      "cell_type": "markdown",
      "metadata": {
        "id": "_WOtguCFsDpo"
      },
      "source": [
        "### 学習のためのデータを用意する"
      ]
    },
    {
      "cell_type": "code",
      "metadata": {
        "id": "aNFWF1fDsHpo"
      },
      "source": [
        "#　入力値を表すデータ\n",
        "# 入力X,入力Y\n",
        "learn_data = [ [0,0], [0,1], [1,0], [1,1] ]\n",
        "# （XとYのand）の結果\n",
        "learn_label = [ 0, 0, 0, 1 ]"
      ],
      "execution_count": 2,
      "outputs": []
    },
    {
      "cell_type": "markdown",
      "metadata": {
        "id": "uVoWexiHtI4X"
      },
      "source": [
        "### アルゴリズムのインスタンスを生成"
      ]
    },
    {
      "cell_type": "code",
      "metadata": {
        "id": "1celscIvtMp4"
      },
      "source": [
        "### 線形SVCのインスタンスを生成\n",
        "clf = LinearSVC()"
      ],
      "execution_count": 3,
      "outputs": []
    },
    {
      "cell_type": "markdown",
      "metadata": {
        "id": "wJy_cn9ntaW2"
      },
      "source": [
        "### モデルに学習させる(fitメソッド)\n"
      ]
    },
    {
      "cell_type": "code",
      "metadata": {
        "id": "gh4VYwHptdXF",
        "outputId": "dbbb54ff-4621-46e5-eba5-428a18bdecb1",
        "colab": {
          "base_uri": "https://localhost:8080/",
          "height": 85
        }
      },
      "source": [
        "clf.fit( learn_data, learn_label)"
      ],
      "execution_count": 4,
      "outputs": [
        {
          "output_type": "execute_result",
          "data": {
            "text/plain": [
              "LinearSVC(C=1.0, class_weight=None, dual=True, fit_intercept=True,\n",
              "          intercept_scaling=1, loss='squared_hinge', max_iter=1000,\n",
              "          multi_class='ovr', penalty='l2', random_state=None, tol=0.0001,\n",
              "          verbose=0)"
            ]
          },
          "metadata": {
            "tags": []
          },
          "execution_count": 4
        }
      ]
    },
    {
      "cell_type": "markdown",
      "metadata": {
        "id": "3hmS2hcKuSSm"
      },
      "source": [
        "### モデルがちゃんと学習できたか、テストデータで予測させてみる"
      ]
    },
    {
      "cell_type": "code",
      "metadata": {
        "id": "tncnQppjuYfr",
        "outputId": "52d1484c-1838-48a8-d88b-de90b8c7aa8a",
        "colab": {
          "base_uri": "https://localhost:8080/",
          "height": 68
        }
      },
      "source": [
        "# 予測用のテストデータ（検証データ）を作る\n",
        "test_data = [ [0,0], [0,1], [1,0], [1,1] ]\n",
        "# モデルにテストデータを回答させる（予測）\n",
        "# 予測のメソッドはpredict\n",
        "test_label = clf.predict(test_data)\n",
        "print(test_label)\n",
        "# 予測結果の評価\n",
        "print(test_data, \"の予測結果\", test_label)\n",
        "# 結果の精度を表示させる\n",
        "print(\"正解率 = \", accuracy_score([0,0,0,1], test_label))"
      ],
      "execution_count": 5,
      "outputs": [
        {
          "output_type": "stream",
          "text": [
            "[0 0 0 1]\n",
            "[[0, 0], [0, 1], [1, 0], [1, 1]] の予測結果 [0 0 0 1]\n",
            "正解率 =  1.0\n"
          ],
          "name": "stdout"
        }
      ]
    },
    {
      "cell_type": "markdown",
      "metadata": {
        "id": "WhFD3goywDbe"
      },
      "source": [
        "### XOR演算を実装する"
      ]
    },
    {
      "cell_type": "code",
      "metadata": {
        "id": "xPmR_E-Pu-6y"
      },
      "source": [
        "#　XOR演算を学習するためのデータと結果の準備\n",
        "# X , Y\n",
        "learn_data  = [[0,0], [1,0], [0,1], [1,1]]\n",
        "# X xor Y\n",
        "learn_label = [0, 1, 1, 0] #（*） xor用のラベルに変更"
      ],
      "execution_count": 6,
      "outputs": []
    },
    {
      "cell_type": "code",
      "metadata": {
        "id": "m92tJmlfw0Tl"
      },
      "source": [
        "# アルゴリズムの指定（LinearSVC）\n",
        "clf = LinearSVC()"
      ],
      "execution_count": 7,
      "outputs": []
    },
    {
      "cell_type": "code",
      "metadata": {
        "id": "s66Mt1EnxCyA",
        "outputId": "2aa78e99-489b-4ec3-a751-f0a4fe8d20ac",
        "colab": {
          "base_uri": "https://localhost:8080/",
          "height": 85
        }
      },
      "source": [
        "# 学習用データと結果の学習\n",
        "clf.fit(learn_data, learn_label)"
      ],
      "execution_count": 8,
      "outputs": [
        {
          "output_type": "execute_result",
          "data": {
            "text/plain": [
              "LinearSVC(C=1.0, class_weight=None, dual=True, fit_intercept=True,\n",
              "          intercept_scaling=1, loss='squared_hinge', max_iter=1000,\n",
              "          multi_class='ovr', penalty='l2', random_state=None, tol=0.0001,\n",
              "          verbose=0)"
            ]
          },
          "metadata": {
            "tags": []
          },
          "execution_count": 8
        }
      ]
    },
    {
      "cell_type": "code",
      "metadata": {
        "id": "WqQp0a6SxKej"
      },
      "source": [
        "# テストデータによる予測\n",
        "test_data = [[0,0], [1,0], [0,1], [1,1]]\n",
        "test_label = clf.predict(test_data)"
      ],
      "execution_count": 9,
      "outputs": []
    },
    {
      "cell_type": "code",
      "metadata": {
        "id": "OJ0TKiCKxWW6",
        "outputId": "cc62e0c9-fdfe-4320-c093-4b521ce4c7df",
        "colab": {
          "base_uri": "https://localhost:8080/",
          "height": 51
        }
      },
      "source": [
        "# テストの結果の評価\n",
        "print(test_data , \"の予測結果：\" , test_label)\n",
        "print(\"正解率　＝　\" , accuracy_score([0, 1, 1, 0], test_label)) #(*) xor用のラベルに変更"
      ],
      "execution_count": 10,
      "outputs": [
        {
          "output_type": "stream",
          "text": [
            "[[0, 0], [1, 0], [0, 1], [1, 1]] の予測結果： [1 1 1 1]\n",
            "正解率　＝　 0.5\n"
          ],
          "name": "stdout"
        }
      ]
    },
    {
      "cell_type": "markdown",
      "metadata": {
        "id": "9sw96Y1rZTIA"
      },
      "source": [
        "### K近傍方でXOR演算を実装する"
      ]
    },
    {
      "cell_type": "code",
      "metadata": {
        "id": "ll7jYs85yJxT"
      },
      "source": [
        "# K近傍方のアルゴリズムのクラスをimport\n",
        "from sklearn.neighbors import  KNeighborsClassifier\n",
        "from sklearn.metrics import accuracy_score"
      ],
      "execution_count": 12,
      "outputs": []
    },
    {
      "cell_type": "code",
      "metadata": {
        "id": "BKpTHKPBZ3zM"
      },
      "source": [
        "# 学習モデルの変数clfをK近傍方アルゴリズムのインスタンスで上書き\n",
        "clf = KNeighborsClassifier(n_neighbors=1)"
      ],
      "execution_count": 13,
      "outputs": []
    },
    {
      "cell_type": "code",
      "metadata": {
        "id": "Fsx21q4KaiEK",
        "outputId": "9792cb42-3fa3-4e2c-bdb4-bf22910a9dbe",
        "colab": {
          "base_uri": "https://localhost:8080/",
          "height": 68
        }
      },
      "source": [
        "# 学習用入力データ（learn_data）と結果用正解データを(learn_label)使って学習\n",
        "clf.fit(learn_data, learn_label)"
      ],
      "execution_count": 15,
      "outputs": [
        {
          "output_type": "execute_result",
          "data": {
            "text/plain": [
              "KNeighborsClassifier(algorithm='auto', leaf_size=30, metric='minkowski',\n",
              "                     metric_params=None, n_jobs=None, n_neighbors=1, p=2,\n",
              "                     weights='uniform')"
            ]
          },
          "metadata": {
            "tags": []
          },
          "execution_count": 15
        }
      ]
    },
    {
      "cell_type": "markdown",
      "metadata": {
        "id": "PIhIe75ObXSf"
      },
      "source": [
        "### テスト検証用データで推論をする"
      ]
    },
    {
      "cell_type": "code",
      "metadata": {
        "id": "mLoxEhCabEzC",
        "outputId": "692a8b0c-5546-47f7-e6e3-22d1b6be9b5d",
        "colab": {
          "base_uri": "https://localhost:8080/",
          "height": 51
        }
      },
      "source": [
        "# テスト検証用データ（test_data）と答え合わせ用の正解データ([0,1,1,0])\n",
        "test_label = clf.predict(test_data)\n",
        "\n",
        "# 推論結果の評価\n",
        "print(test_data, \"の予測結果\", test_label)\n",
        "print(\"正解率　＝　\", accuracy_score( [0,1,1,0], test_label ))"
      ],
      "execution_count": 19,
      "outputs": [
        {
          "output_type": "stream",
          "text": [
            "[[0, 0], [1, 0], [0, 1], [1, 1]] の予測結果 [0 1 1 0]\n",
            "正解率　＝　 1.0\n"
          ],
          "name": "stdout"
        }
      ]
    },
    {
      "cell_type": "code",
      "metadata": {
        "id": "0ULAgXSOcDLc"
      },
      "source": [
        ""
      ],
      "execution_count": null,
      "outputs": []
    }
  ]
}