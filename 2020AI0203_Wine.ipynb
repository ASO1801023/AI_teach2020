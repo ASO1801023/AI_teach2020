{
  "nbformat": 4,
  "nbformat_minor": 0,
  "metadata": {
    "colab": {
      "name": "2020AI0203-Wine.ipynb",
      "provenance": [],
      "collapsed_sections": [],
      "authorship_tag": "ABX9TyO94ORBHjLU1GV3P2WFLxl8",
      "include_colab_link": true
    },
    "kernelspec": {
      "name": "python3",
      "display_name": "Python 3"
    }
  },
  "cells": [
    {
      "cell_type": "markdown",
      "metadata": {
        "id": "view-in-github",
        "colab_type": "text"
      },
      "source": [
        "<a href=\"https://colab.research.google.com/github/ASO1801023/AI_teach2020/blob/master/2020AI0203_Wine.ipynb\" target=\"_parent\"><img src=\"https://colab.research.google.com/assets/colab-badge.svg\" alt=\"Open In Colab\"/></a>"
      ]
    },
    {
      "cell_type": "markdown",
      "metadata": {
        "id": "YeDuxLVHgva1"
      },
      "source": [
        "### ワインデータの分類をランダムフォレストで行う"
      ]
    },
    {
      "cell_type": "code",
      "metadata": {
        "id": "I6XsZvLZhSoL"
      },
      "source": [
        "# ライブラリの読み込み\n",
        "import pandas as pd\n",
        "# データを学習用とテスト用にわけるライブラリ\n",
        "from sklearn.model_selection import train_test_split\n",
        "# ランダムフォレストアルゴリズムの学習モデル（分類）\n",
        "from sklearn.ensemble import RandomForestClassifier\n",
        "# 学習精度を評価するライブラリ\n",
        "from sklearn.metrics import accuracy_score\n",
        "# 分類結果を出力するライブラリ\n",
        "from sklearn.metrics import classification_report"
      ],
      "execution_count": null,
      "outputs": []
    },
    {
      "cell_type": "markdown",
      "metadata": {
        "id": "-T8ncrWziGNa"
      },
      "source": [
        "### ワインデータの読み込み"
      ]
    },
    {
      "cell_type": "code",
      "metadata": {
        "id": "UAVBEIGniE5j",
        "outputId": "bf92a270-8fab-40dc-9391-c909bddf46d7",
        "colab": {
          "base_uri": "https://localhost:8080/",
          "height": 34
        }
      },
      "source": [
        "# webから読み込むためのライブラリ\n",
        "from urllib.request import urlretrieve\n",
        "# uciのサイトから読み込むためのurl文字列\n",
        "url = \"https://archive.ics.uci.edu/ml/machine-learning-databases/wine-quality/winequality-white.csv\"\n",
        "savepath = \"winequality-white.csv\"\n",
        "# データをwebアクセスでコピーして指定したファイルパス・ファイル名に保存\n",
        "urlretrieve(url,savepath)"
      ],
      "execution_count": null,
      "outputs": [
        {
          "output_type": "execute_result",
          "data": {
            "text/plain": [
              "('winequality-white.csv', <http.client.HTTPMessage at 0x7f6338417eb8>)"
            ]
          },
          "metadata": {
            "tags": []
          },
          "execution_count": 4
        }
      ]
    },
    {
      "cell_type": "markdown",
      "metadata": {
        "id": "7Q6T75nZmltC"
      },
      "source": [
        "### ワインデータのファイルをプログラムに読み込んで表示（区切り文字をセミコロン「；」で指定）"
      ]
    },
    {
      "cell_type": "code",
      "metadata": {
        "id": "dXephvBAjQf_",
        "outputId": "dbef5ae4-9220-4f02-b14a-1488bd220fff",
        "colab": {
          "base_uri": "https://localhost:8080/",
          "height": 153
        }
      },
      "source": [
        "# 変数wineにデータ保持\n",
        "wine = pd.read_csv(savepath, sep=\";\", encoding=\"utf-8\")\n",
        "# 読み込んだデータの最初の方を表示\n",
        "print( wine.head() )"
      ],
      "execution_count": null,
      "outputs": [
        {
          "output_type": "stream",
          "text": [
            "   fixed acidity  volatile acidity  citric acid  ...  sulphates  alcohol  quality\n",
            "0            7.0              0.27         0.36  ...       0.45      8.8        6\n",
            "1            6.3              0.30         0.34  ...       0.49      9.5        6\n",
            "2            8.1              0.28         0.40  ...       0.44     10.1        6\n",
            "3            7.2              0.23         0.32  ...       0.40      9.9        6\n",
            "4            7.2              0.23         0.32  ...       0.40      9.9        6\n",
            "\n",
            "[5 rows x 12 columns]\n"
          ],
          "name": "stdout"
        }
      ]
    },
    {
      "cell_type": "code",
      "metadata": {
        "id": "i51uZd4anAwa"
      },
      "source": [
        ""
      ],
      "execution_count": null,
      "outputs": []
    }
  ]
}