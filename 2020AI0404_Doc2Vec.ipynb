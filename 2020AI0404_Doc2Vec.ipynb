{
  "nbformat": 4,
  "nbformat_minor": 0,
  "metadata": {
    "colab": {
      "name": "2020AI0404-Doc2Vec.ipynb ",
      "provenance": [],
      "collapsed_sections": [],
      "include_colab_link": true
    },
    "kernelspec": {
      "name": "python3",
      "display_name": "Python 3"
    }
  },
  "cells": [
    {
      "cell_type": "markdown",
      "metadata": {
        "id": "view-in-github",
        "colab_type": "text"
      },
      "source": [
        "<a href=\"https://colab.research.google.com/github/ASO1801023/AI_teach2020/blob/master/2020AI0404_Doc2Vec.ipynb\" target=\"_parent\"><img src=\"https://colab.research.google.com/assets/colab-badge.svg\" alt=\"Open In Colab\"/></a>"
      ]
    },
    {
      "cell_type": "markdown",
      "metadata": {
        "id": "SSZm3nzeuFD_"
      },
      "source": [
        "## Doc2VeCで文章を学習したコーパスモデルを作って保存"
      ]
    },
    {
      "cell_type": "markdown",
      "metadata": {
        "id": "PijXit8Jo5Au"
      },
      "source": [
        "### データリストの作成"
      ]
    },
    {
      "cell_type": "code",
      "metadata": {
        "id": "c2vL5ctzo3kq"
      },
      "source": [
        "\r\n",
        "#学習対象とする青空文庫の作品リスト --- (*1)\r\n",
        "list = [\r\n",
        "    {\"author\":{\r\n",
        "        \"name\":\"宮澤 賢治\",\r\n",
        "        \"url\":\"https://www.aozora.gr.jp/cards/000081/files/\"}, \r\n",
        "     \"books\":[\r\n",
        "        {\"name\":\"銀河鉄道の夜\",\"zipname\":\"43737_ruby_19028.zip\"},\r\n",
        "        {\"name\":\"注文の多い料理店\",\"zipname\":\"1927_ruby_17835.zip\"},\r\n",
        "        {\"name\":\"セロ弾きのゴーシュ\",\"zipname\":\"470_ruby_3987.zip\"},\r\n",
        "        {\"name\":\"やまなし\",\"zipname\":\"46605_ruby_29758.zip\"},\r\n",
        "        {\"name\":\"どんぐりと山猫\",\"zipname\":\"43752_ruby_17595.zip\"},\r\n",
        "    ]},\r\n",
        "    {\"author\":{\r\n",
        "        \"name\":\"芥川 竜之介\",\r\n",
        "        \"url\":\"https://www.aozora.gr.jp/cards/000879/files/\"}, \r\n",
        "     \"books\":[\r\n",
        "        {\"name\":\"羅生門\",\"zipname\":\"127_ruby_150.zip\"},\r\n",
        "        {\"name\":\"鼻\",\"zipname\":\"42_ruby_154.zip\"},\r\n",
        "        {\"name\":\"河童\",\"zipname\":\"69_ruby_1321.zip\"},\r\n",
        "        {\"name\":\"歯車\",\"zipname\":\"42377_ruby_34744.zip\"},\r\n",
        "        {\"name\":\"老年\",\"zipname\":\"131_ruby_241.zip\"},\r\n",
        "    ]},\r\n",
        "    {\"author\":{\r\n",
        "        \"name\":\"ポー エドガー・アラン\",\r\n",
        "        \"url\":\"https://www.aozora.gr.jp/cards/000094/files/\"}, \r\n",
        "     \"books\":[\r\n",
        "        {\"name\":\"ウィリアム・ウィルスン\",\"zipname\":\"2523_ruby_19896.zip\"},\r\n",
        "        {\"name\":\"落穴と振子\",\"zipname\":\"1871_ruby_17551.zip\"},\r\n",
        "        {\"name\":\"黒猫\",\"zipname\":\"530_ruby_20931.zip\"},\r\n",
        "        {\"name\":\"群集の人\",\"zipname\":\"56535_ruby_69925.zip\"},\r\n",
        "        {\"name\":\"沈黙\",\"zipname\":\"56537_ruby_70425.zip\"},\r\n",
        "    ]},\r\n",
        "    {\"author\":{\r\n",
        "        \"name\":\"紫式部\",\r\n",
        "        \"url\":\"https://www.aozora.gr.jp/cards/000052/files/\"}, \r\n",
        "     \"books\":[\r\n",
        "        {\"name\":\"源氏物語 01 桐壺\",\"zipname\":\"5016_ruby_9746.zip\"},\r\n",
        "        {\"name\":\"源氏物語 02 帚木\",\"zipname\":\"5017_ruby_9752.zip\"},\r\n",
        "        {\"name\":\"源氏物語 03 空蝉\",\"zipname\":\"5018_ruby_9754.zip\"},\r\n",
        "        {\"name\":\"源氏物語 04 夕顔\",\"zipname\":\"5019_ruby_9761.zip\"},\r\n",
        "        {\"name\":\"源氏物語 05 若紫\",\"zipname\":\"5020_ruby_11253.zip\"},\r\n",
        "    ]},\r\n",
        "]"
      ],
      "execution_count": 1,
      "outputs": []
    },
    {
      "cell_type": "markdown",
      "metadata": {
        "id": "D9wtrxYe3MrU"
      },
      "source": [
        "### MeCabのインストール"
      ]
    },
    {
      "cell_type": "code",
      "metadata": {
        "id": "9ewEc7653PS_"
      },
      "source": [
        "# 形態素分析ライブラリーMeCab と 辞書(mecab-ipadic-NEologd)のインストール \r\n",
        "!apt-get -q -y install sudo file mecab libmecab-dev mecab-ipadic-utf8 git curl python-mecab > /dev/null\r\n",
        "!pip install mecab-python3 > /dev/null\r\n",
        "\r\n",
        "# MeCabの実行時の指定パスをインストールパスにリンクさせる\r\n",
        "# シンボリックリンク（/etc/mecabrcを/usr/local/etc/mecabrcで参照できるようにする）\r\n",
        "!ln -s /etc/mecabrc /usr/local/etc/mecabrc"
      ],
      "execution_count": 2,
      "outputs": []
    },
    {
      "cell_type": "markdown",
      "metadata": {
        "id": "oSyvYNBd5K0l"
      },
      "source": [
        "### データリストを検索して順番に返す関数：book_listを定義"
      ]
    },
    {
      "cell_type": "code",
      "metadata": {
        "id": "I7_uPiLC5Rwq"
      },
      "source": [
        "# 作品リスト(list)をループして順次リターンする\r\n",
        "def book_list():\r\n",
        "  for novellist in list:\r\n",
        "    author = novellist[\"author\"]\r\n",
        "    for book in novellist[\"books\"]:\r\n",
        "      # yieldで順次値をリターンして次のループへ進む\r\n",
        "      yield author, book"
      ],
      "execution_count": 3,
      "outputs": []
    },
    {
      "cell_type": "markdown",
      "metadata": {
        "id": "Reaw7Uxw6ACV"
      },
      "source": [
        "### 指定された書籍名（book）のzipファイルを開き、ファイルのテキストデータを読み込んでリターンする関数：read_book"
      ]
    },
    {
      "cell_type": "code",
      "metadata": {
        "id": "wyvD492A6Ju8"
      },
      "source": [
        "import zipfile\r\n",
        "import os.path\r\n",
        "import urllib.request as req\r\n",
        "# zipファイルを開き、中の文書データを取得する\r\n",
        "def read_book(author, book):\r\n",
        "  zipname = book[\"zipname\"]\r\n",
        "  # zipファイルが無ければダウンロードする\r\n",
        "  if not os.path.exists(zipname):\r\n",
        "    req.urlretrieve(author[\"url\"] + zipname, zipname)\r\n",
        "  zipname = book[\"zipname\"]\r\n",
        "  # zipファイルを開く\r\n",
        "  with zipfile.ZipFile( zipname, \"r\" ) as zf:\r\n",
        "    # Zipファイルに含まれるファイルを開く\r\n",
        "    for filename in zf.namelist():\r\n",
        "      # txt拡張子ファイル以外は処理をスキップ\r\n",
        "      if os.path.splitext(filename)[1] != \".txt\":\r\n",
        "        continue\r\n",
        "      with zf.open(filename, \"r\") as f:\r\n",
        "        # 今回読み込むファイルはShift-JISなので文字コードを指定して解読する（デコード）\r\n",
        "        return f.read().decode(\"shift-jis\") # デコードした値をリターン"
      ],
      "execution_count": 4,
      "outputs": []
    },
    {
      "cell_type": "markdown",
      "metadata": {
        "id": "KZpuAu1R8Uyb"
      },
      "source": [
        "### MeCabのインスタンス生成と、引数で渡された文章データを形態素解析した配列にしてリターンする関数：split_words"
      ]
    },
    {
      "cell_type": "code",
      "metadata": {
        "id": "GZnKnJzq8geD"
      },
      "source": [
        "import MeCab\r\n",
        "# MeCabインスタンスの生成\r\n",
        "mecab = MeCab.Tagger()\r\n",
        "\r\n",
        "# 引数のテキストを形態素解析＆ストップワード除去して配列にしてリターン\r\n",
        "def split_words(text):\r\n",
        "  node = mecab.parseToNode(text)\r\n",
        "  # 分かち書き（形態素解析＆ストップワード除去）して結果用配列\r\n",
        "  wakati_words = []\r\n",
        "  while node is not None:\r\n",
        "    hinshi = node.feature.split(\",\")[0]\r\n",
        "    if hinshi in [\"名詞\"]:\r\n",
        "      wakati_words.append(node.surface)\r\n",
        "    elif hinshi in [\"動詞\", \"形容詞\"]:\r\n",
        "      wakati_words.append( node.feature.split(\",\")[6] )\r\n",
        "    node = node.next\r\n",
        "  # while終わり\r\n",
        "  return wakati_words\r\n"
      ],
      "execution_count": 5,
      "outputs": []
    },
    {
      "cell_type": "markdown",
      "metadata": {
        "id": "6etLouv890uP"
      },
      "source": [
        "### 学習モデル作成のメイン処理。作品リストをループしながらzipファイルを開き、テキストデータを形態素解析してタグ（ラベル）付きドキュメントにして、そのドキュメントを学習させる"
      ]
    },
    {
      "cell_type": "code",
      "metadata": {
        "id": "5MV_EAZ3-Od5"
      },
      "source": [
        "from gensim import models\r\n",
        "from gensim.models.doc2vec import TaggedDocument\r\n",
        "# 作品リストをDoc2Vecが学習できるTaggedDocument（説明変数＆目的変数）形式にし、配列に追加\r\n",
        "documents = [] # 追加していく配列\r\n",
        "# 作品リストをループして回す\r\n",
        "for author, book in book_list():\r\n",
        "  # 作品の文字列文章データを取得\r\n",
        "  words = read_book( author, book )\r\n",
        "  # 作品の文字列文章データを分かち書きにする\r\n",
        "  wakati_words = split_words(words)\r\n",
        "  # TaggedDocumentの作成　説明変数=分かち書きにした作品 タグ=作者：作品名\r\n",
        "  document = TaggedDocument( wakati_words, [author[\"name\"] +\":\"+book[\"name\"]] )\r\n",
        "  # 登録するタグドキュメントをデバッグ表示\r\n",
        "  print(document)\r\n",
        "  # 配列に登録\r\n",
        "  documents.append(document)\r\n",
        "# forループ終わり\r\n",
        "\r\n",
        "# TaggedDocumentの配列を使ってDoc2Vecの学習モデルを作成\r\n",
        "model = models.Doc2Vec( documents, dm=0, vector_size=300, window=15, min_count=1 )\r\n",
        "# 作成した学習モデルをファイル保存\r\n",
        "model.save('aozora.model')\r\n",
        "print(\"モデル作成完了\")\r\n",
        "\r\n"
      ],
      "execution_count": null,
      "outputs": []
    },
    {
      "cell_type": "markdown",
      "metadata": {
        "id": "GnOVZ5hiC_k2"
      },
      "source": [
        "## Doc2Vecで文章を学習したコーパスモデルを使って、関連度の高い文章を推論"
      ]
    },
    {
      "cell_type": "markdown",
      "metadata": {
        "id": "mLoTIdcqDXYk"
      },
      "source": [
        "### 保存されたコーパス学習モデルファイルを読み込む"
      ]
    },
    {
      "cell_type": "code",
      "metadata": {
        "id": "H5fzwuo2-aLz"
      },
      "source": [
        "from gensim import models\r\n",
        "# 保存したDoc2Vec学習モデルファイルを読み込み\r\n",
        "model = models.Doc2Vec.load('aozora.model')"
      ],
      "execution_count": null,
      "outputs": []
    },
    {
      "cell_type": "markdown",
      "metadata": {
        "id": "piLKmx31Drpc"
      },
      "source": [
        "### 指定されたzipファイルをダウンロードし、テキストデータを読み込んでリターンする関数：readbookを定義"
      ]
    },
    {
      "cell_type": "code",
      "metadata": {
        "id": "SqNtk9-5DpD0"
      },
      "source": [
        "import urllib.request as req\r\n",
        "import zipfile\r\n",
        "import os.path\r\n",
        "\r\n",
        "# 分類用のzipファイルを開き、中の文章データを取得する\r\n",
        "def read_book( url, zipname ):\r\n",
        "  # 指定されたzipファイルが存在しなければ、urlからダウンロード\r\n",
        "  if not os.path.exists(zipname):\r\n",
        "    req.urlretrieve( url, zipname )\r\n",
        "  # 指定されたzipファイルを開いて、ファイルデータを読み込んでリターン\r\n",
        "  with zipfile.ZipFile( zipname, \"r\" ) as zf:\r\n",
        "    for filename in zf.namelist():\r\n",
        "      with zf.open( filename, \"r\" ) as f:\r\n",
        "        return f.read().decode(\"shift-jis\")"
      ],
      "execution_count": null,
      "outputs": []
    },
    {
      "cell_type": "markdown",
      "metadata": {
        "id": "CLlv3esRFTwA"
      },
      "source": [
        "### MeCabインスタンスの生成と、引き渡されたテキストを形態素解析してリターンする関数：split_words"
      ]
    },
    {
      "cell_type": "code",
      "metadata": {
        "id": "C-9Y3pOmFhEz"
      },
      "source": [
        "### モデル保存処理と同じものなので再定義しません"
      ],
      "execution_count": null,
      "outputs": []
    },
    {
      "cell_type": "markdown",
      "metadata": {
        "id": "2bHldAEcGSPe"
      },
      "source": [
        "### 引き渡されたタイトルとurlを読込、Doc2Vecの学習モデルから関連度の高い登録データを推論させる関数：similar"
      ]
    },
    {
      "cell_type": "code",
      "metadata": {
        "id": "WyhjOiAUGiEo"
      },
      "source": [
        "# 引数のタイトル、urlの作品を分類する(関連度の高いデータを推論する)\r\n",
        "def similar( title, url ):\r\n",
        "  zipname = url.split(\"/\")[-1]\r\n",
        "\r\n",
        "  words = read_book( url, zipname )\r\n",
        "  wakati_words = split_words(words)\r\n",
        "  # 文章ベクトルを取得\r\n",
        "  vector = model.infer_vector( wakati_words )\r\n",
        "  print( \"--- [\", title, \"」と似た作品は？ ---\" )\r\n",
        "  # 推論結果を表示する\r\n",
        "  print( model.docvecs.most_similar( [vector], topn=3 ) )\r\n",
        "  print(\"\")"
      ],
      "execution_count": null,
      "outputs": []
    },
    {
      "cell_type": "markdown",
      "metadata": {
        "id": "G2RDooAgHuAC"
      },
      "source": [
        "### Doc2Vecのコーパス学習モデルによる推論のメイン処理"
      ]
    },
    {
      "cell_type": "code",
      "metadata": {
        "id": "sJwwdt-ZHrLy"
      },
      "source": [
        "# メイン実行処理\r\n",
        "\r\n",
        "# 引き渡したデータ（第2引数のzipデータ）と関連度の高いデータを表示\r\n",
        "similar(\"宮沢 賢治:よだかの星\", \r\n",
        "        \"https://www.aozora.gr.jp/cards/000081/files/473_ruby_467.zip\")\r\n",
        "\r\n",
        "similar(\"芥川 龍之介:犬と笛\", \r\n",
        "        \"https://www.aozora.gr.jp/cards/000879/files/56_ruby_845.zip\")\r\n",
        "\r\n",
        "similar(\"ポー エドガー・アラン:マリー・ロジェエの怪事件\", \r\n",
        "        \"https://www.aozora.gr.jp/cards/000094/files/4261_ruby_54182.zip\")\r\n",
        "\r\n",
        "similar(\"紫式部:源氏物語 06 末摘花\", \r\n",
        "        \"https://www.aozora.gr.jp/cards/000052/files/5021_ruby_11106.zip\")\r\n"
      ],
      "execution_count": null,
      "outputs": []
    }
  ]
}